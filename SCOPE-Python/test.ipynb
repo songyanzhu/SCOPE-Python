{
 "cells": [
  {
   "cell_type": "code",
   "execution_count": 1,
   "id": "6bc77630-5099-4f3e-9837-f1d5ab9a4db6",
   "metadata": {},
   "outputs": [],
   "source": [
    "import numpy as np\n",
    "import os\n",
    "import sys\n",
    "import math\n",
    "from datetime import datetime"
   ]
  },
  {
   "cell_type": "code",
   "execution_count": 3,
   "id": "06dae090-8eb8-4745-b939-8cdceb6eacb5",
   "metadata": {},
   "outputs": [
    {
     "ename": "ModuleNotFoundError",
     "evalue": "No module named 'src.fluxes.biochemical_md12'",
     "output_type": "error",
     "traceback": [
      "\u001b[1;31m---------------------------------------------------------------------------\u001b[0m",
      "\u001b[1;31mModuleNotFoundError\u001b[0m                       Traceback (most recent call last)",
      "Cell \u001b[1;32mIn[3], line 2\u001b[0m\n\u001b[0;32m      1\u001b[0m \u001b[38;5;28;01mfrom\u001b[39;00m \u001b[38;5;21;01msrc\u001b[39;00m\u001b[38;5;21;01m.\u001b[39;00m\u001b[38;5;21;01mfluxes\u001b[39;00m\u001b[38;5;21;01m.\u001b[39;00m\u001b[38;5;21;01mbiochemical\u001b[39;00m \u001b[38;5;28;01mimport\u001b[39;00m biochemical\n\u001b[1;32m----> 2\u001b[0m \u001b[38;5;28;01mfrom\u001b[39;00m \u001b[38;5;21;01msrc\u001b[39;00m\u001b[38;5;21;01m.\u001b[39;00m\u001b[38;5;21;01mfluxes\u001b[39;00m\u001b[38;5;21;01m.\u001b[39;00m\u001b[38;5;21;01mbiochemical_md12\u001b[39;00m \u001b[38;5;28;01mimport\u001b[39;00m biochemical_MD12\n\u001b[0;32m      3\u001b[0m \u001b[38;5;28;01mfrom\u001b[39;00m \u001b[38;5;21;01msrc\u001b[39;00m\u001b[38;5;21;01m.\u001b[39;00m\u001b[38;5;21;01mfluxes\u001b[39;00m\u001b[38;5;21;01m.\u001b[39;00m\u001b[38;5;21;01mheatfluxes\u001b[39;00m \u001b[38;5;28;01mimport\u001b[39;00m heatfluxes\n\u001b[0;32m      4\u001b[0m \u001b[38;5;28;01mfrom\u001b[39;00m \u001b[38;5;21;01msrc\u001b[39;00m\u001b[38;5;21;01m.\u001b[39;00m\u001b[38;5;21;01mfluxes\u001b[39;00m\u001b[38;5;21;01m.\u001b[39;00m\u001b[38;5;21;01mresistances\u001b[39;00m \u001b[38;5;28;01mimport\u001b[39;00m resistances\n",
      "\u001b[1;31mModuleNotFoundError\u001b[0m: No module named 'src.fluxes.biochemical_md12'"
     ]
    }
   ],
   "source": [
    "from src.fluxes.biochemical import biochemical\n",
    "from src.fluxes.biochemical_md12 import biochemical_MD12\n",
    "from src.fluxes.heatfluxes import heatfluxes\n",
    "from src.fluxes.resistances import resistances\n",
    "from src.fluxes.ebal import ebal"
   ]
  }
 ],
 "metadata": {
  "kernelspec": {
   "display_name": "Python 3 (ipykernel)",
   "language": "python",
   "name": "python3"
  },
  "language_info": {
   "codemirror_mode": {
    "name": "ipython",
    "version": 3
   },
   "file_extension": ".py",
   "mimetype": "text/x-python",
   "name": "python",
   "nbconvert_exporter": "python",
   "pygments_lexer": "ipython3",
   "version": "3.11.7"
  }
 },
 "nbformat": 4,
 "nbformat_minor": 5
}
